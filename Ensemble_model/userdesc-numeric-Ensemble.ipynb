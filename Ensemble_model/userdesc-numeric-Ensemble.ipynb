{
 "cells": [
  {
   "cell_type": "code",
   "id": "initial_id",
   "metadata": {
    "collapsed": true,
    "ExecuteTime": {
     "end_time": "2025-06-05T15:40:26.203257Z",
     "start_time": "2025-06-05T15:40:26.144310Z"
    }
   },
   "source": [
    "from transformers import AutoTokenizer, AutoModelForSequenceClassification\n",
    "from Numeric_Features_model.MLP_model_architecture import YourMLPClass  # Adjust import path if needed\n",
    "\n",
    "import torch\n",
    "\n",
    "# Automatically use GPU if available, fallback to CPU\n",
    "device = torch.device(\"cuda\" if torch.cuda.is_available() else \"cpu\")\n",
    "print(f\"Using device: {device}\")"
   ],
   "outputs": [
    {
     "name": "stdout",
     "output_type": "stream",
     "text": [
      "Using device: cuda\n"
     ]
    }
   ],
   "execution_count": 2
  },
  {
   "metadata": {},
   "cell_type": "markdown",
   "source": "# Load transformers data #",
   "id": "76af32998547d219"
  },
  {
   "metadata": {},
   "cell_type": "code",
   "outputs": [],
   "execution_count": null,
   "source": [
    "transformer_path = \"../userdesc-LM-model/trained-model/checkpoint-18441\"\n",
    "tokenizer = AutoTokenizer.from_pretrained(transformer_path)\n",
    "transformer_model = AutoModelForSequenceClassification.from_pretrained(transformer_path)\n",
    "transformer_model.eval().to(device)"
   ],
   "id": "2ec557ce0d29a499"
  },
  {
   "metadata": {},
   "cell_type": "markdown",
   "source": "# LOAD MLP data #",
   "id": "9c1c74dee53d3a21"
  },
  {
   "metadata": {},
   "cell_type": "code",
   "outputs": [],
   "execution_count": null,
   "source": [
    "mlp_model = YourMLPClass(input_dim=2)\n",
    "mlp_model.load_state_dict(torch.load(\"../Numeric-Features-model/trained-model/mlp_model.pt\"))\n",
    "mlp_model.eval().to(device)\n"
   ],
   "id": "5639a1dc2b053d8f"
  }
 ],
 "metadata": {
  "kernelspec": {
   "display_name": "Python 3",
   "language": "python",
   "name": "python3"
  },
  "language_info": {
   "codemirror_mode": {
    "name": "ipython",
    "version": 2
   },
   "file_extension": ".py",
   "mimetype": "text/x-python",
   "name": "python",
   "nbconvert_exporter": "python",
   "pygments_lexer": "ipython2",
   "version": "2.7.6"
  }
 },
 "nbformat": 4,
 "nbformat_minor": 5
}

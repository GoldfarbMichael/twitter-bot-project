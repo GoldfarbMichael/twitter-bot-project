{
 "cells": [
  {
   "cell_type": "code",
   "id": "initial_id",
   "metadata": {
    "collapsed": true,
    "ExecuteTime": {
     "end_time": "2025-06-06T11:29:16.632068Z",
     "start_time": "2025-06-06T11:29:16.299967Z"
    }
   },
   "source": [
    "import pandas as pd\n",
    "\n",
    "# Load the CSV\n",
    "df = pd.read_csv('../data/processed_users.csv')\n",
    "\n",
    "# Keep only the desired columns\n",
    "df = df[['userid', 'followers', 'avg_retweetcount', 'label']]\n",
    "\n",
    "# Save to a new CSV\n",
    "df.to_csv('../data/processed_users_filtered.csv', index=False)"
   ],
   "outputs": [],
   "execution_count": 2
  },
  {
   "metadata": {
    "ExecuteTime": {
     "end_time": "2025-06-06T11:42:28.430891Z",
     "start_time": "2025-06-06T11:42:27.492820Z"
    }
   },
   "cell_type": "code",
   "source": [
    "# Load the CSV\n",
    "df = pd.read_csv('../data/processed_users.csv')\n",
    "# Keep only the desired columns\n",
    "df = df[['userid', 'followers', 'avg_retweetcount', 'label']]\n",
    "\n",
    "file_path = '../data/userdesc_labeled.csv'\n",
    "# Load the CSV file into a pandas DataFrame\n",
    "df_desc = pd.read_csv(file_path)\n",
    "\n",
    "# Drop rows with missing descriptions\n",
    "df_clean = df_desc.dropna(subset=[\"acctdesc\"]).copy()\n",
    "\n",
    "# Check balance\n",
    "print(df_clean['label'].value_counts())\n",
    "print(df_clean.head())\n",
    "\n",
    "\n",
    "\n",
    "df_merged = pd.merge(df, df_clean[['userid', 'acctdesc']], on='userid', how='left')\n",
    "\n",
    "print(\"\\nMerged DataFrame with 'acctdesc'. First 5 rows:\")\n",
    "print(df_merged.head())\n",
    "df_merged.to_csv('../data/processed_users_filtered.csv', index=False)\n",
    "\n",
    "# For users in labeled_intersection.csv that were not in df_clean, the 'acctdesc' will be NaN (null)"
   ],
   "id": "c8318a17094210d1",
   "outputs": [
    {
     "name": "stdout",
     "output_type": "stream",
     "text": [
      "label\n",
      "0    92940\n",
      "1     5336\n",
      "Name: count, dtype: int64\n",
      "               userid                                           acctdesc  \\\n",
      "0            22240612  The Arab world’s leading source of global news...   \n",
      "1             6135622  Desde Alemania para América Latina. Todo lo qu...   \n",
      "2  848416437030985728  Changsha, the capital of central China’s Hunan...   \n",
      "3  984429894829592576  🌐✈Blog de aviación, viajes y economía para via...   \n",
      "4  807095565028917248  Nature heals. Birding in China: best photos+vi...   \n",
      "\n",
      "   label  \n",
      "0      0  \n",
      "1      0  \n",
      "2      0  \n",
      "3      0  \n",
      "4      0  \n",
      "\n",
      "Merged DataFrame with 'acctdesc'. First 5 rows:\n",
      "               userid  followers  avg_retweetcount  label  \\\n",
      "0            22240612     925487          1.755378      0   \n",
      "1             6135622    1367996         39.639711      0   \n",
      "2  848416437030985728      47826          1.000000      0   \n",
      "3  984429894829592576        328          0.398857      0   \n",
      "4  807095565028917248      26020         18.340000      0   \n",
      "\n",
      "                                            acctdesc  \n",
      "0  The Arab world’s leading source of global news...  \n",
      "1  Desde Alemania para América Latina. Todo lo qu...  \n",
      "2  Changsha, the capital of central China’s Hunan...  \n",
      "3  🌐✈Blog de aviación, viajes y economía para via...  \n",
      "4  Nature heals. Birding in China: best photos+vi...  \n"
     ]
    }
   ],
   "execution_count": 7
  }
 ],
 "metadata": {
  "kernelspec": {
   "display_name": "Python 3",
   "language": "python",
   "name": "python3"
  },
  "language_info": {
   "codemirror_mode": {
    "name": "ipython",
    "version": 2
   },
   "file_extension": ".py",
   "mimetype": "text/x-python",
   "name": "python",
   "nbconvert_exporter": "python",
   "pygments_lexer": "ipython2",
   "version": "2.7.6"
  }
 },
 "nbformat": 4,
 "nbformat_minor": 5
}
